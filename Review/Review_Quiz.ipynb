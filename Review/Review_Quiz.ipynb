{
 "cells": [
  {
   "cell_type": "markdown",
   "id": "5cfff6c8",
   "metadata": {
    "slideshow": {
     "slide_type": "slide"
    }
   },
   "source": [
    "# What was covered? "
   ]
  },
  {
   "cell_type": "markdown",
   "id": "25a12b4d",
   "metadata": {
    "slideshow": {
     "slide_type": "slide"
    }
   },
   "source": [
    "During our training on November 30th - December 1st, multiple topics were introduced to you. They are:\n",
    "\n",
    "1. Digital Earth for a Resilient Caribbean Project\n",
    "2. Dominica Rooftop Classification \n",
    "3. Python Programming Language Fundamentals"
   ]
  },
  {
   "cell_type": "markdown",
   "id": "ca501e6e",
   "metadata": {
    "slideshow": {
     "slide_type": "slide"
    }
   },
   "source": [
    "Python Fundamentals\n",
    "\n",
    "1. What exactly is Python?\n",
    "2. Basic Python Concepts\n",
    "\n",
    "    a. Variables\n",
    "    \n",
    "    b. Data types\n",
    "    \n",
    "    c. Conditionals (if, if-elif-else, if-else, try-except)\n",
    "    \n",
    "    d. Loops (iterators; for, while)\n",
    "    \n",
    "    e. Functions\n",
    "    \n",
    "    f. Data Structures (Lists, Dictionaries)\n",
    "    \n",
    "    g. Other (classes )"
   ]
  },
  {
   "cell_type": "markdown",
   "id": "4649d8a8",
   "metadata": {
    "slideshow": {
     "slide_type": "slide"
    }
   },
   "source": [
    "# Let's see how much we can remember."
   ]
  },
  {
   "cell_type": "markdown",
   "id": "48241f5f",
   "metadata": {
    "slideshow": {
     "slide_type": "slide"
    }
   },
   "source": [
    "Present Review quiz from Google Forms. \n",
    "https://forms.gle/AgGF1TYCqrQwUNTy7"
   ]
  }
 ],
 "metadata": {
  "celltoolbar": "Slideshow",
  "kernelspec": {
   "display_name": "Python 3 (ipykernel)",
   "language": "python",
   "name": "python3"
  },
  "language_info": {
   "codemirror_mode": {
    "name": "ipython",
    "version": 3
   },
   "file_extension": ".py",
   "mimetype": "text/x-python",
   "name": "python",
   "nbconvert_exporter": "python",
   "pygments_lexer": "ipython3",
   "version": "3.11.5"
  }
 },
 "nbformat": 4,
 "nbformat_minor": 5
}
