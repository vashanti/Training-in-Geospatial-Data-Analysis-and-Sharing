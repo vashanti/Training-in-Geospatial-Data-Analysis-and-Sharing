{
 "cells": [
  {
   "cell_type": "markdown",
   "id": "ed8a6b5d",
   "metadata": {
    "slideshow": {
     "slide_type": "slide"
    }
   },
   "source": [
    "# What is Python?"
   ]
  },
  {
   "cell_type": "markdown",
   "id": "abdbb94d",
   "metadata": {
    "slideshow": {
     "slide_type": "slide"
    }
   },
   "source": [
    "1. Open Source\n",
    "\n",
    "2. Interpreted Language\n",
    "\n",
    "3. High Level \n",
    "\n",
    "4. Object Oriented\n",
    "\n",
    "5. Easy to learn syntax\n"
   ]
  },
  {
   "cell_type": "markdown",
   "id": "31c51ded",
   "metadata": {
    "slideshow": {
     "slide_type": "slide"
    }
   },
   "source": [
    "# Variables, Data Types"
   ]
  },
  {
   "cell_type": "markdown",
   "id": "81c6c46f",
   "metadata": {
    "slideshow": {
     "slide_type": "slide"
    }
   },
   "source": [
    "# Variables\n",
    "\n",
    "# What is a Variable?\n",
    "\n",
    "When a program is running, it needs to store data on a more temporary basis because the information might \n",
    "have to be manipulated, reformatted, combined with other pieces of information, or forgotten so more memory can \n",
    "be made available. To do this, a program uses what is known as a variable.\n",
    "\n",
    "# Naming a Variable\n",
    "\n",
    "Variables names are not restricted to single letters. They may be a combination of multiple letters, numbers and \n",
    "the undersccore _. There are however rules that make certain combinations legal.\n",
    "\n",
    "a. A variable must start with a letter or the underscore _ character\n",
    "\n",
    "b. A variable name can only contain alpha-numeric characters (A-Z, a-z, 0-9, _) and underscores\n",
    "\n",
    "c. A variable name cannot start with a number\n",
    "\n",
    "d. Variable names are case sensitive (meaning, Country, country, counTRY are not the same variables)\n",
    "\n",
    "e. No Python reserved word such as lambda, global, not, raise can be used as a varaible name\n",
    "\n",
    "\n",
    "Note: If you are using multiple words to name a varibale it is recommended that Snake, Camel or Pascal case be used as a best practice for readability"
   ]
  },
  {
   "cell_type": "code",
   "execution_count": 4,
   "id": "f3781c74",
   "metadata": {
    "slideshow": {
     "slide_type": "slide"
    }
   },
   "outputs": [],
   "source": [
    "#The following are accurate variable names\n",
    "#note, to assign/give a value to a variable the = sign is used\n",
    "\n",
    "country = \"Dominica\"\n",
    "COUNTRY = \"Trinidad\"\n",
    "CountrySouth = \"Martinique\"\n",
    "country_south = \"Barbados\"\n",
    "_CountryNorth = \"St Marteen\"\n",
    "_country_north = \"Montserrat\"\n",
    "countries_2 = \"Antigua and Barbuda\"\n",
    "countries2 = \"St Kitts and Nevis\""
   ]
  },
  {
   "cell_type": "code",
   "execution_count": 10,
   "id": "78caa28c",
   "metadata": {
    "slideshow": {
     "slide_type": "slide"
    }
   },
   "outputs": [
    {
     "name": "stdout",
     "output_type": "stream",
     "text": [
      "Dominica\n",
      "Trinidad\n",
      "Martinique\n",
      "Barbados\n",
      "St Marteen\n",
      "Montserrat\n",
      "Antigua and Barbuda\n",
      "St Kitts and Nevis\n"
     ]
    }
   ],
   "source": [
    "#output of the variables\n",
    "\n",
    "print(country)\n",
    "print(COUNTRY)\n",
    "print(CountrySouth)\n",
    "print(country_south)\n",
    "print(_CountryNorth)\n",
    "print(_country_north)\n",
    "print(countries_2)\n",
    "print(countries2)"
   ]
  },
  {
   "cell_type": "code",
   "execution_count": 18,
   "id": "ee15da93",
   "metadata": {
    "slideshow": {
     "slide_type": "slide"
    }
   },
   "outputs": [
    {
     "ename": "SyntaxError",
     "evalue": "invalid decimal literal (310179932.py, line 3)",
     "output_type": "error",
     "traceback": [
      "\u001b[1;36m  Cell \u001b[1;32mIn[18], line 3\u001b[1;36m\u001b[0m\n\u001b[1;33m    2countries = \"Trinidad and Tobago\" #must start with a letter or underscore, cannot start with a number\u001b[0m\n\u001b[1;37m    ^\u001b[0m\n\u001b[1;31mSyntaxError\u001b[0m\u001b[1;31m:\u001b[0m invalid decimal literal\n"
     ]
    }
   ],
   "source": [
    "#The following variables are inaccurate and will yield an error\n",
    "\n",
    "2countries = \"Trinidad and Tobago\" #must start with a letter or underscore, cannot start with a number\n",
    "\\country_south = \"Guyana\" #can only contain alphanumeric characters and underscores\n",
    "lambda = \"Aruba\""
   ]
  },
  {
   "cell_type": "markdown",
   "id": "29a1e47a",
   "metadata": {
    "slideshow": {
     "slide_type": "slide"
    }
   },
   "source": [
    "# Data Types"
   ]
  },
  {
   "cell_type": "markdown",
   "id": "33da84fb",
   "metadata": {
    "slideshow": {
     "slide_type": "slide"
    }
   },
   "source": [
    "Variables can hold many different types of data.\n",
    "\n",
    "Data Type          Example\n",
    "\n",
    "int                1, -12, 3500, -523\n",
    "\n",
    "float              3.14, 19.62, -63.01\n",
    "\n",
    "str                \"George\", \"\", \"38\", \"d_5h89*opal\" \n",
    "\n",
    "list               [\"Python\", \"Java\", \"C++\"]\n",
    "\n",
    "dictionary         {\"title\":\"Mrs\", \"first name\":\"Angelique\", \"age\":\"2\"}\n",
    "\n",
    "bool               True, False\n",
    "\n",
    "\n",
    "Unlike other programming languages, the data type of a varaible is not defined when declaring the varaible. To find out the data type of a variable, the type() function is used."
   ]
  },
  {
   "cell_type": "code",
   "execution_count": 23,
   "id": "7f522726",
   "metadata": {
    "slideshow": {
     "slide_type": "slide"
    }
   },
   "outputs": [
    {
     "name": "stdout",
     "output_type": "stream",
     "text": [
      "<class 'str'>\n",
      "<class 'int'>\n",
      "<class 'list'>\n",
      "<class 'float'>\n"
     ]
    }
   ],
   "source": [
    "#the print() function is used to display data written within the () following the function name\n",
    "#the type() function is used to determine the data of the variable, or data written within the () following the function name\n",
    "#when using a function within a function, the innermost function isinterpreted first, followed by the next outermost, and so on\n",
    "\n",
    "#declaring variables\n",
    "name = \"Susan\"\n",
    "age = 43\n",
    "neighbors = [\"Bree\", \"Gabrielle\", \"Eddi\", \"Lynette\"]\n",
    "rate = 15.25\n",
    "\n",
    "print(type(name))\n",
    "print(type(age))\n",
    "print(type(neighbors))\n",
    "print(type(rate))"
   ]
  },
  {
   "cell_type": "markdown",
   "id": "ae427c5e",
   "metadata": {
    "slideshow": {
     "slide_type": "slide"
    }
   },
   "source": [
    "# Conditionals (if, if-elif-else, if-else)"
   ]
  },
  {
   "cell_type": "markdown",
   "id": "17de223f",
   "metadata": {
    "slideshow": {
     "slide_type": "slide"
    }
   },
   "source": [
    "Comparison Operator     Function\n",
    "\n",
    "<                       less than\n",
    "\n",
    "<=                      less than or equal to\n",
    "\n",
    ">                       greater than\n",
    "\n",
    ">=                      greater than or equal to\n",
    "\n",
    "==                      equal\n",
    "\n",
    "!=                      not equal\n"
   ]
  },
  {
   "cell_type": "code",
   "execution_count": null,
   "id": "f8625ef9",
   "metadata": {},
   "outputs": [],
   "source": []
  }
 ],
 "metadata": {
  "celltoolbar": "Slideshow",
  "kernelspec": {
   "display_name": "Python 3 (ipykernel)",
   "language": "python",
   "name": "python3"
  },
  "language_info": {
   "codemirror_mode": {
    "name": "ipython",
    "version": 3
   },
   "file_extension": ".py",
   "mimetype": "text/x-python",
   "name": "python",
   "nbconvert_exporter": "python",
   "pygments_lexer": "ipython3",
   "version": "3.11.5"
  }
 },
 "nbformat": 4,
 "nbformat_minor": 5
}
