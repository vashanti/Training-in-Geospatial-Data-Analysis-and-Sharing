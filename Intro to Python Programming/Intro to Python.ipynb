{
 "cells": [
  {
   "cell_type": "markdown",
   "id": "ed8a6b5d",
   "metadata": {
    "slideshow": {
     "slide_type": "slide"
    }
   },
   "source": [
    "# What is Python?"
   ]
  },
  {
   "cell_type": "markdown",
   "id": "abdbb94d",
   "metadata": {
    "slideshow": {
     "slide_type": "slide"
    }
   },
   "source": [
    "1. Open Source\n",
    "\n",
    "2. Interpreted Language\n",
    "\n",
    "3. High Level \n",
    "\n",
    "4. Object Oriented\n",
    "\n",
    "5. Easy to learn syntax\n"
   ]
  },
  {
   "cell_type": "markdown",
   "id": "31c51ded",
   "metadata": {
    "slideshow": {
     "slide_type": "slide"
    }
   },
   "source": [
    "# Variables, Data Types"
   ]
  },
  {
   "cell_type": "markdown",
   "id": "81c6c46f",
   "metadata": {
    "slideshow": {
     "slide_type": "slide"
    }
   },
   "source": [
    "# Variables\n",
    "\n",
    "# What is a Variable?\n",
    "\n",
    "When a program is running, it needs to store data on a more temporary basis because the information might \n",
    "have to be manipulated, reformatted, combined with other pieces of information, or forgotten so more memory can \n",
    "be made available. To do this, a program uses what is known as a variable.\n",
    "\n",
    "# Naming a Variable\n",
    "\n",
    "Variables names are not restricted to single letters. They may be a combination of multiple letters, numbers and \n",
    "the undersccore _. There are however rules that make certain combinations legal.\n",
    "\n",
    "a. A variable must start with a letter or the underscore _ character\n",
    "\n",
    "b. A variable name can only contain alpha-numeric characters (A-Z, a-z, 0-9, _) and underscores\n",
    "\n",
    "c. A variable name cannot start with a number\n",
    "\n",
    "d. Variable names are case sensitive (meaning, Country, country, counTRY are not the same variables)\n",
    "\n",
    "e. No Python reserved word such as lambda, global, not, raise can be used as a varaible name\n",
    "\n",
    "\n",
    "Note: If you are using multiple words to name a varibale it is recommended that Snake, Camel or Pascal case be used as a best practice for readability"
   ]
  },
  {
   "cell_type": "code",
   "execution_count": 4,
   "id": "f3781c74",
   "metadata": {
    "slideshow": {
     "slide_type": "slide"
    }
   },
   "outputs": [],
   "source": [
    "#The following are accurate variable names\n",
    "#note, to assign/give a value to a variable the = sign is used\n",
    "\n",
    "country = \"Dominica\"\n",
    "COUNTRY = \"Trinidad\"\n",
    "CountrySouth = \"Martinique\"\n",
    "country_south = \"Barbados\"\n",
    "_CountryNorth = \"St Marteen\"\n",
    "_country_north = \"Montserrat\"\n",
    "countries_2 = \"Antigua and Barbuda\"\n",
    "countries2 = \"St Kitts and Nevis\""
   ]
  },
  {
   "cell_type": "code",
   "execution_count": 10,
   "id": "78caa28c",
   "metadata": {
    "slideshow": {
     "slide_type": "slide"
    }
   },
   "outputs": [
    {
     "name": "stdout",
     "output_type": "stream",
     "text": [
      "Dominica\n",
      "Trinidad\n",
      "Martinique\n",
      "Barbados\n",
      "St Marteen\n",
      "Montserrat\n",
      "Antigua and Barbuda\n",
      "St Kitts and Nevis\n"
     ]
    }
   ],
   "source": [
    "#output of the variables\n",
    "\n",
    "print(country)\n",
    "print(COUNTRY)\n",
    "print(CountrySouth)\n",
    "print(country_south)\n",
    "print(_CountryNorth)\n",
    "print(_country_north)\n",
    "print(countries_2)\n",
    "print(countries2)"
   ]
  },
  {
   "cell_type": "code",
   "execution_count": 18,
   "id": "ee15da93",
   "metadata": {
    "slideshow": {
     "slide_type": "slide"
    }
   },
   "outputs": [
    {
     "ename": "SyntaxError",
     "evalue": "invalid decimal literal (310179932.py, line 3)",
     "output_type": "error",
     "traceback": [
      "\u001b[1;36m  Cell \u001b[1;32mIn[18], line 3\u001b[1;36m\u001b[0m\n\u001b[1;33m    2countries = \"Trinidad and Tobago\" #must start with a letter or underscore, cannot start with a number\u001b[0m\n\u001b[1;37m    ^\u001b[0m\n\u001b[1;31mSyntaxError\u001b[0m\u001b[1;31m:\u001b[0m invalid decimal literal\n"
     ]
    }
   ],
   "source": [
    "#The following variables are inaccurate and will yield an error\n",
    "\n",
    "2countries = \"Trinidad and Tobago\" #must start with a letter or underscore, cannot start with a number\n",
    "\\country_south = \"Guyana\" #can only contain alphanumeric characters and underscores\n",
    "lambda = \"Aruba\""
   ]
  },
  {
   "cell_type": "markdown",
   "id": "29a1e47a",
   "metadata": {
    "slideshow": {
     "slide_type": "slide"
    }
   },
   "source": [
    "# Data Types"
   ]
  },
  {
   "attachments": {
    "image.png": {
     "image/png": "[encoded data removed]"
    }
   },
   "cell_type": "markdown",
   "id": "33da84fb",
   "metadata": {
    "slideshow": {
     "slide_type": "slide"
    }
   },
   "source": [
    "Variables can hold many different types of data.\n",
    "\n",
    "![image.png](attachment:image.png)\n",
    "\n",
    "Unlike other programming languages, the data type of a varaible is not defined when declaring the varaible. To find out the data type of a variable, the type() function is used."
   ]
  },
  {
   "cell_type": "code",
   "execution_count": 23,
   "id": "7f522726",
   "metadata": {
    "slideshow": {
     "slide_type": "slide"
    }
   },
   "outputs": [
    {
     "name": "stdout",
     "output_type": "stream",
     "text": [
      "<class 'str'>\n",
      "<class 'int'>\n",
      "<class 'list'>\n",
      "<class 'float'>\n"
     ]
    }
   ],
   "source": [
    "#the print() function is used to display data written within the () following the function name\n",
    "#the type() function is used to determine the data of the variable, or data written within the () following the function name\n",
    "#when using a function within a function, the innermost function isinterpreted first, followed by the next outermost, and so on\n",
    "\n",
    "#declaring variables\n",
    "name = \"Susan\"\n",
    "age = 43\n",
    "neighbors = [\"Bree\", \"Gabrielle\", \"Eddi\", \"Lynette\"]\n",
    "rate = 15.25\n",
    "\n",
    "print(type(name))\n",
    "print(type(age))\n",
    "print(type(neighbors))\n",
    "print(type(rate))"
   ]
  },
  {
   "cell_type": "markdown",
   "id": "ae427c5e",
   "metadata": {
    "slideshow": {
     "slide_type": "slide"
    }
   },
   "source": [
    "# Conditionals (if, if-elif-else, if-else)"
   ]
  },
  {
   "attachments": {
    "image.png": {
     "image/png": "[encoded data removed]"
    }
   },
   "cell_type": "markdown",
   "id": "cd892287",
   "metadata": {
    "slideshow": {
     "slide_type": "slide"
    }
   },
   "source": [
    "Conditional statements allow you determine the flow of a program based on the result of a condition. Comparison operators assist in the results of the conditions.\n",
    "\n",
    "![image.png](attachment:image.png)\n",
    "\n",
    "Conditional statments allow a program to execute certain actions or rather lines of code depending on if a condition evaluates to True or False.\n",
    "\n",
    "# if..elif..else\n",
    "\n",
    "### The if statement \n",
    "\n",
    "This statement executes the block of code following it, only if the condition is met. The syntax is as follows:\n",
    "\n",
    "if condition:\n",
    "\n",
    "### The if else statement\n",
    "\n",
    "If the condition of the if statement is not met, then the block of code following the else statement is executed. The syntax is as follows:\n",
    "\n",
    "if condition:\n",
    "    #block of code\n",
    "else:\n",
    "    #block of code\n",
    "    \n",
    "Note: a condition is not required following the else statement.\n",
    "\n",
    "### The if elif else statement\n",
    "\n",
    "If the condition of the if statement is not met, another condition can be applied using the elif statement. The elif statement may be applied as many times as needed to test conditions. If there are no more conditions to be tested, then the else statement will allow to execute code that is required if none of the conditions are met. The syntax is as follows:\n",
    "\n",
    "if condition:\n",
    "    #bock of code\n",
    "elif condition:\n",
    "    #block of code\n",
    "elif condition:\n",
    "    #block of code\n",
    "else:\n",
    "    #block of code"
   ]
  },
  {
   "cell_type": "code",
   "execution_count": 6,
   "id": "d797e077",
   "metadata": {
    "slideshow": {
     "slide_type": "slide"
    }
   },
   "outputs": [
    {
     "name": "stdout",
     "output_type": "stream",
     "text": [
      "This variable is a float\n"
     ]
    }
   ],
   "source": [
    "#declare and initialise a variable\n",
    "number = 1.5\n",
    "\n",
    "#compare the data type of the variable to determine its type\n",
    "if type(number) == str:\n",
    "    print(\"This variable is a string\")\n",
    "elif type(number) == int:\n",
    "    print(\"This variable is an integer\")\n",
    "elif type(number) == float:\n",
    "    print(\"This variable is a float\")\n",
    "elif type(number) == bool:\n",
    "    print(\"This variable is a boolen\")\n",
    "else:\n",
    "    print(\"I have no idea what this variable is\")"
   ]
  },
  {
   "cell_type": "markdown",
   "id": "755a6a1a",
   "metadata": {
    "slideshow": {
     "slide_type": "slide"
    }
   },
   "source": [
    "# Loops (for, while)"
   ]
  },
  {
   "cell_type": "markdown",
   "id": "f6c86469",
   "metadata": {
    "slideshow": {
     "slide_type": "slide"
    }
   },
   "source": [
    "The for loop executes a block of code repeatedly until the condition in the for statement is no longer valid. The syntax is as follows:\n",
    "\n",
    "for variable in sequence:\n",
    "\n",
    "    #block of code\n",
    "   \n",
    "\n",
    "The while loop repeatedly executes instructions inside the loop while a certain condition remains valid. The syntax of a while loop is as follows:\n",
    "\n",
    "while condition is true:\n",
    "\n",
    "    #block of code / do A"
   ]
  },
  {
   "cell_type": "code",
   "execution_count": 15,
   "id": "98eb24c7",
   "metadata": {},
   "outputs": [
    {
     "name": "stdout",
     "output_type": "stream",
     "text": [
      "Mike\n",
      "Orson\n",
      "Tom\n",
      "\n",
      "rabbit\n",
      "chicken\n",
      "cow\n",
      "fish\n",
      "\n",
      "0\n",
      "1\n",
      "2\n",
      "3\n",
      "4\n"
     ]
    }
   ],
   "source": [
    "#declare sequences\n",
    "meats = ['rabbit', 'chicken', 'cow', 'fish'] #list\n",
    "children = {'Mike':5, 'Orson':7, 'Tom':14} #dictionary\n",
    "\n",
    "for child in children:\n",
    "    print(child)\n",
    "    \n",
    "print() #print a blank line\n",
    "\n",
    "for meat in meats:\n",
    "    print(meat)\n",
    "    \n",
    "print()\n",
    "\n",
    "for i in range(5): #range function creates a sequence of numbers from 0 to whatever number is identified within ()\n",
    "    print(i)\n",
    "\n",
    "#the range function's syntax is as follows: range(start, stop, step)"
   ]
  },
  {
   "cell_type": "code",
   "execution_count": 9,
   "id": "aa4b0b70",
   "metadata": {
    "slideshow": {
     "slide_type": "slide"
    }
   },
   "outputs": [
    {
     "name": "stdout",
     "output_type": "stream",
     "text": [
      "Counter =  5\n",
      "Counter =  4\n",
      "Counter =  3\n",
      "Counter =  2\n",
      "Counter =  1\n"
     ]
    }
   ],
   "source": [
    "#declare a counter to keep track of the number of iterations\n",
    "counter = 5\n",
    "\n",
    "#while loop will execute code as long as the couner variable is greater than 0\n",
    "while counter > 0:\n",
    "    print (\"Counter = \", counter) #print the current value of the counter variable\n",
    "    counter = counter - 1 #this is where we decrement the counter. This avoids infinite looping"
   ]
  }
 ],
 "metadata": {
  "celltoolbar": "Slideshow",
  "kernelspec": {
   "display_name": "Python 3 (ipykernel)",
   "language": "python",
   "name": "python3"
  },
  "language_info": {
   "codemirror_mode": {
    "name": "ipython",
    "version": 3
   },
   "file_extension": ".py",
   "mimetype": "text/x-python",
   "name": "python",
   "nbconvert_exporter": "python",
   "pygments_lexer": "ipython3",
   "version": "3.11.5"
  }
 },
 "nbformat": 4,
 "nbformat_minor": 5
}
