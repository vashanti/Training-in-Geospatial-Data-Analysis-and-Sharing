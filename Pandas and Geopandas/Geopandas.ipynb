{
 "cells": [
  {
   "cell_type": "markdown",
   "id": "b01b87cd",
   "metadata": {
    "slideshow": {
     "slide_type": "slide"
    }
   },
   "source": [
    "# Geopandas with leafmap\n",
    "\n",
    "* Used to read in the geospatial data, and returns a GeoDataFrame\n",
    "* ___Geopandas___: visualize geospatial data\n",
    "* ___leafmap___: python package for geospatial analysis and interactive mapping in Jupyter\n",
    "* ___GeoDataFrame___: tabular data structure containing a column that stores geometries / a geoseries\n"
   ]
  },
  {
   "cell_type": "code",
   "execution_count": 2,
   "id": "f486b05c",
   "metadata": {
    "slideshow": {
     "slide_type": "slide"
    }
   },
   "outputs": [
    {
     "data": {
      "application/vnd.jupyter.widget-view+json": {
       "model_id": "6a5e1213ea804eae8b079a26201848f7",
       "version_major": 2,
       "version_minor": 0
      },
      "text/plain": [
       "Map(center=[15.5, -61.3], controls=(ZoomControl(options=['position', 'zoom_in_text', 'zoom_in_title', 'zoom_ou…"
      ]
     },
     "metadata": {},
     "output_type": "display_data"
    }
   ],
   "source": [
    "#install geopandas and leafmap\n",
    "# !pip install geopandas\n",
    "# !pip install leafmap\n",
    "\n",
    "#import geopandas and leafmap\n",
    "import geopandas as gpd\n",
    "import leafmap\n",
    "\n",
    "#create an interactive map\n",
    "geomap = leafmap.Map(center=[15.5, -61.3], zoom=10)#up/down, left/right\n",
    "#display map\n",
    "geomap\n"
   ]
  },
  {
   "cell_type": "code",
   "execution_count": 3,
   "id": "bab9ba1d",
   "metadata": {
    "slideshow": {
     "slide_type": "slide"
    }
   },
   "outputs": [
    {
     "data": {
      "text/html": [
       "<div>\n",
       "<style scoped>\n",
       "    .dataframe tbody tr th:only-of-type {\n",
       "        vertical-align: middle;\n",
       "    }\n",
       "\n",
       "    .dataframe tbody tr th {\n",
       "        vertical-align: top;\n",
       "    }\n",
       "\n",
       "    .dataframe thead th {\n",
       "        text-align: right;\n",
       "    }\n",
       "</style>\n",
       "<table border=\"1\" class=\"dataframe\">\n",
       "  <thead>\n",
       "    <tr style=\"text-align: right;\">\n",
       "      <th></th>\n",
       "      <th>id</th>\n",
       "      <th>name</th>\n",
       "      <th>country</th>\n",
       "      <th>latitude</th>\n",
       "      <th>longitude</th>\n",
       "      <th>population</th>\n",
       "    </tr>\n",
       "  </thead>\n",
       "  <tbody>\n",
       "    <tr>\n",
       "      <th>0</th>\n",
       "      <td>30</td>\n",
       "      <td>Fort-de-France</td>\n",
       "      <td>FRA</td>\n",
       "      <td>14.61041</td>\n",
       "      <td>-61.08003</td>\n",
       "      <td>253995.0</td>\n",
       "    </tr>\n",
       "    <tr>\n",
       "      <th>1</th>\n",
       "      <td>455</td>\n",
       "      <td>Roseau</td>\n",
       "      <td>DMA</td>\n",
       "      <td>15.30102</td>\n",
       "      <td>-61.38701</td>\n",
       "      <td>NaN</td>\n",
       "    </tr>\n",
       "    <tr>\n",
       "      <th>2</th>\n",
       "      <td>715</td>\n",
       "      <td>Kingstown</td>\n",
       "      <td>VCT</td>\n",
       "      <td>13.14828</td>\n",
       "      <td>-61.21206</td>\n",
       "      <td>49485.0</td>\n",
       "    </tr>\n",
       "    <tr>\n",
       "      <th>3</th>\n",
       "      <td>716</td>\n",
       "      <td>Castries</td>\n",
       "      <td>LCA</td>\n",
       "      <td>14.00197</td>\n",
       "      <td>-61.00001</td>\n",
       "      <td>37963.0</td>\n",
       "    </tr>\n",
       "    <tr>\n",
       "      <th>4</th>\n",
       "      <td>722</td>\n",
       "      <td>Saint George's</td>\n",
       "      <td>GRD</td>\n",
       "      <td>12.05263</td>\n",
       "      <td>-61.74164</td>\n",
       "      <td>NaN</td>\n",
       "    </tr>\n",
       "  </tbody>\n",
       "</table>\n",
       "</div>"
      ],
      "text/plain": [
       "    id            name country  latitude  longitude  population\n",
       "0   30  Fort-de-France     FRA  14.61041  -61.08003    253995.0\n",
       "1  455          Roseau     DMA  15.30102  -61.38701         NaN\n",
       "2  715       Kingstown     VCT  13.14828  -61.21206     49485.0\n",
       "3  716        Castries     LCA  14.00197  -61.00001     37963.0\n",
       "4  722  Saint George's     GRD  12.05263  -61.74164         NaN"
      ]
     },
     "execution_count": 3,
     "metadata": {},
     "output_type": "execute_result"
    }
   ],
   "source": [
    "\n",
    "#Read and convert csv to dataframe\n",
    "df = leafmap.csv_to_df('world_cities.csv')\n",
    "#display dataframe\n",
    "df"
   ]
  },
  {
   "cell_type": "code",
   "execution_count": 5,
   "id": "4bea60d9",
   "metadata": {
    "slideshow": {
     "slide_type": "slide"
    }
   },
   "outputs": [
    {
     "data": {
      "application/vnd.jupyter.widget-view+json": {
       "model_id": "6a5e1213ea804eae8b079a26201848f7",
       "version_major": 2,
       "version_minor": 0
      },
      "text/plain": [
       "Map(bottom=60248.0, center=[14.902321826141808, -61.08535766601563], controls=(ZoomControl(options=['position'…"
      ]
     },
     "metadata": {},
     "output_type": "display_data"
    }
   ],
   "source": [
    "#create a layer on map from dataframe\n",
    "#add_xy_data: Adds points from a CSV file containing lat/lon information and display data on the map.\n",
    "geomap.add_xy_data(df, x=\"longitude\", y=\"latitude\", layer_name=\"data points\")\n",
    "geomap"
   ]
  },
  {
   "cell_type": "code",
   "execution_count": 102,
   "id": "e2e6592f",
   "metadata": {},
   "outputs": [
    {
     "data": {
      "text/html": [
       "<div>\n",
       "<style scoped>\n",
       "    .dataframe tbody tr th:only-of-type {\n",
       "        vertical-align: middle;\n",
       "    }\n",
       "\n",
       "    .dataframe tbody tr th {\n",
       "        vertical-align: top;\n",
       "    }\n",
       "\n",
       "    .dataframe thead th {\n",
       "        text-align: right;\n",
       "    }\n",
       "</style>\n",
       "<table border=\"1\" class=\"dataframe\">\n",
       "  <thead>\n",
       "    <tr style=\"text-align: right;\">\n",
       "      <th></th>\n",
       "      <th>id</th>\n",
       "      <th>name</th>\n",
       "      <th>country</th>\n",
       "      <th>latitude</th>\n",
       "      <th>longitude</th>\n",
       "      <th>population</th>\n",
       "      <th>geometry</th>\n",
       "    </tr>\n",
       "  </thead>\n",
       "  <tbody>\n",
       "    <tr>\n",
       "      <th>0</th>\n",
       "      <td>30</td>\n",
       "      <td>Fort-de-France</td>\n",
       "      <td>FRA</td>\n",
       "      <td>14.61041</td>\n",
       "      <td>-61.08003</td>\n",
       "      <td>253995.0</td>\n",
       "      <td>POINT (-61.08003 14.61041)</td>\n",
       "    </tr>\n",
       "    <tr>\n",
       "      <th>1</th>\n",
       "      <td>455</td>\n",
       "      <td>Roseau</td>\n",
       "      <td>DMA</td>\n",
       "      <td>15.30102</td>\n",
       "      <td>-61.38701</td>\n",
       "      <td>NaN</td>\n",
       "      <td>POINT (-61.38701 15.30102)</td>\n",
       "    </tr>\n",
       "    <tr>\n",
       "      <th>2</th>\n",
       "      <td>715</td>\n",
       "      <td>Kingstown</td>\n",
       "      <td>VCT</td>\n",
       "      <td>13.14828</td>\n",
       "      <td>-61.21206</td>\n",
       "      <td>49485.0</td>\n",
       "      <td>POINT (-61.21206 13.14828)</td>\n",
       "    </tr>\n",
       "    <tr>\n",
       "      <th>3</th>\n",
       "      <td>716</td>\n",
       "      <td>Castries</td>\n",
       "      <td>LCA</td>\n",
       "      <td>14.00197</td>\n",
       "      <td>-61.00001</td>\n",
       "      <td>37963.0</td>\n",
       "      <td>POINT (-61.00001 14.00197)</td>\n",
       "    </tr>\n",
       "    <tr>\n",
       "      <th>4</th>\n",
       "      <td>722</td>\n",
       "      <td>Saint George's</td>\n",
       "      <td>GRD</td>\n",
       "      <td>12.05263</td>\n",
       "      <td>-61.74164</td>\n",
       "      <td>NaN</td>\n",
       "      <td>POINT (-61.74164 12.05263)</td>\n",
       "    </tr>\n",
       "  </tbody>\n",
       "</table>\n",
       "</div>"
      ],
      "text/plain": [
       "    id            name country  latitude  longitude  population  \\\n",
       "0   30  Fort-de-France     FRA  14.61041  -61.08003    253995.0   \n",
       "1  455          Roseau     DMA  15.30102  -61.38701         NaN   \n",
       "2  715       Kingstown     VCT  13.14828  -61.21206     49485.0   \n",
       "3  716        Castries     LCA  14.00197  -61.00001     37963.0   \n",
       "4  722  Saint George's     GRD  12.05263  -61.74164         NaN   \n",
       "\n",
       "                     geometry  \n",
       "0  POINT (-61.08003 14.61041)  \n",
       "1  POINT (-61.38701 15.30102)  \n",
       "2  POINT (-61.21206 13.14828)  \n",
       "3  POINT (-61.00001 14.00197)  \n",
       "4  POINT (-61.74164 12.05263)  "
      ]
     },
     "execution_count": 102,
     "metadata": {},
     "output_type": "execute_result"
    }
   ],
   "source": [
    "#convert csv to GeoDataFrame\n",
    "gdf = leafmap.csv_to_gdf('world_cities.csv')\n",
    "gdf\n",
    "\n",
    "#notice that a geometry column is created with the lat and long values as a point"
   ]
  },
  {
   "cell_type": "code",
   "execution_count": 103,
   "id": "07364ea4",
   "metadata": {},
   "outputs": [
    {
     "data": {
      "application/vnd.jupyter.widget-view+json": {
       "model_id": "ca22ed9b25d3427aa32bc7115444a9b4",
       "version_major": 2,
       "version_minor": 0
      },
      "text/plain": [
       "Map(bottom=120423.0, center=[14.8, -61], controls=(ZoomControl(options=['position', 'zoom_in_text', 'zoom_in_t…"
      ]
     },
     "execution_count": 103,
     "metadata": {},
     "output_type": "execute_result"
    }
   ],
   "source": [
    "geomap.add_xy_data(gdf, x=\"longitude\", y=\"latitude\", layer_name=\"geo points\")\n",
    "geomap"
   ]
  },
  {
   "cell_type": "code",
   "execution_count": 108,
   "id": "e50f824a",
   "metadata": {},
   "outputs": [
    {
     "data": {
      "text/html": [
       "<div>\n",
       "<style scoped>\n",
       "    .dataframe tbody tr th:only-of-type {\n",
       "        vertical-align: middle;\n",
       "    }\n",
       "\n",
       "    .dataframe tbody tr th {\n",
       "        vertical-align: top;\n",
       "    }\n",
       "\n",
       "    .dataframe thead th {\n",
       "        text-align: right;\n",
       "    }\n",
       "</style>\n",
       "<table border=\"1\" class=\"dataframe\">\n",
       "  <thead>\n",
       "    <tr style=\"text-align: right;\">\n",
       "      <th></th>\n",
       "      <th>longitude</th>\n",
       "      <th>latitude</th>\n",
       "      <th>BuildingNumber</th>\n",
       "      <th>geometry</th>\n",
       "    </tr>\n",
       "  </thead>\n",
       "  <tbody>\n",
       "    <tr>\n",
       "      <th>0</th>\n",
       "      <td>-61.392414</td>\n",
       "      <td>15.344853</td>\n",
       "      <td>11.0</td>\n",
       "      <td>POINT (-61.39241 15.34485)</td>\n",
       "    </tr>\n",
       "    <tr>\n",
       "      <th>1</th>\n",
       "      <td>-61.388657</td>\n",
       "      <td>15.341959</td>\n",
       "      <td>91.0</td>\n",
       "      <td>POINT (-61.38866 15.34196)</td>\n",
       "    </tr>\n",
       "    <tr>\n",
       "      <th>2</th>\n",
       "      <td>-61.392207</td>\n",
       "      <td>15.345262</td>\n",
       "      <td>16.0</td>\n",
       "      <td>POINT (-61.39221 15.34526)</td>\n",
       "    </tr>\n",
       "    <tr>\n",
       "      <th>3</th>\n",
       "      <td>-61.392512</td>\n",
       "      <td>15.345171</td>\n",
       "      <td>13.0</td>\n",
       "      <td>POINT (-61.39251 15.34517)</td>\n",
       "    </tr>\n",
       "    <tr>\n",
       "      <th>4</th>\n",
       "      <td>-61.392209</td>\n",
       "      <td>15.344747</td>\n",
       "      <td>21.0</td>\n",
       "      <td>POINT (-61.39221 15.34475)</td>\n",
       "    </tr>\n",
       "    <tr>\n",
       "      <th>...</th>\n",
       "      <td>...</td>\n",
       "      <td>...</td>\n",
       "      <td>...</td>\n",
       "      <td>...</td>\n",
       "    </tr>\n",
       "    <tr>\n",
       "      <th>87</th>\n",
       "      <td>-61.391686</td>\n",
       "      <td>15.344740</td>\n",
       "      <td>26.0</td>\n",
       "      <td>POINT (-61.39169 15.34474)</td>\n",
       "    </tr>\n",
       "    <tr>\n",
       "      <th>88</th>\n",
       "      <td>-61.391896</td>\n",
       "      <td>15.344565</td>\n",
       "      <td>24.0</td>\n",
       "      <td>POINT (-61.39190 15.34456)</td>\n",
       "    </tr>\n",
       "    <tr>\n",
       "      <th>89</th>\n",
       "      <td>-61.391122</td>\n",
       "      <td>15.344566</td>\n",
       "      <td>36.0</td>\n",
       "      <td>POINT (-61.39112 15.34457)</td>\n",
       "    </tr>\n",
       "    <tr>\n",
       "      <th>90</th>\n",
       "      <td>-61.391934</td>\n",
       "      <td>15.344859</td>\n",
       "      <td>28.0</td>\n",
       "      <td>POINT (-61.39193 15.34486)</td>\n",
       "    </tr>\n",
       "    <tr>\n",
       "      <th>91</th>\n",
       "      <td>-61.385893</td>\n",
       "      <td>15.300562</td>\n",
       "      <td>92.0</td>\n",
       "      <td>POINT (-61.38589 15.30056)</td>\n",
       "    </tr>\n",
       "  </tbody>\n",
       "</table>\n",
       "<p>92 rows × 4 columns</p>\n",
       "</div>"
      ],
      "text/plain": [
       "    longitude   latitude  BuildingNumber                    geometry\n",
       "0  -61.392414  15.344853            11.0  POINT (-61.39241 15.34485)\n",
       "1  -61.388657  15.341959            91.0  POINT (-61.38866 15.34196)\n",
       "2  -61.392207  15.345262            16.0  POINT (-61.39221 15.34526)\n",
       "3  -61.392512  15.345171            13.0  POINT (-61.39251 15.34517)\n",
       "4  -61.392209  15.344747            21.0  POINT (-61.39221 15.34475)\n",
       "..        ...        ...             ...                         ...\n",
       "87 -61.391686  15.344740            26.0  POINT (-61.39169 15.34474)\n",
       "88 -61.391896  15.344565            24.0  POINT (-61.39190 15.34456)\n",
       "89 -61.391122  15.344566            36.0  POINT (-61.39112 15.34457)\n",
       "90 -61.391934  15.344859            28.0  POINT (-61.39193 15.34486)\n",
       "91 -61.385893  15.300562            92.0  POINT (-61.38589 15.30056)\n",
       "\n",
       "[92 rows x 4 columns]"
      ]
     },
     "execution_count": 108,
     "metadata": {},
     "output_type": "execute_result"
    }
   ],
   "source": [
    "#to use, csv files should have longitude and latidude headings\n",
    "stats = leafmap.csv_to_gdf('15122.csv')\n",
    "stats"
   ]
  },
  {
   "cell_type": "code",
   "execution_count": 110,
   "id": "906100e3",
   "metadata": {},
   "outputs": [
    {
     "data": {
      "application/vnd.jupyter.widget-view+json": {
       "model_id": "f2f1e7ed031e4aecbc50a72d5e5cbfa2",
       "version_major": 2,
       "version_minor": 0
      },
      "text/plain": [
       "Map(bottom=119994.0, center=[15.368949896534705, -61.24328613281251], controls=(ZoomControl(options=['position…"
      ]
     },
     "execution_count": 110,
     "metadata": {},
     "output_type": "execute_result"
    }
   ],
   "source": [
    "geomap.add_xy_data(stats, x=\"longitude\", y=\"latitude\", layer_name=\"dominica points\")\n",
    "geomap"
   ]
  },
  {
   "cell_type": "markdown",
   "id": "43192f92",
   "metadata": {
    "slideshow": {
     "slide_type": "slide"
    }
   },
   "source": [
    "# Geopackages\n",
    "\n",
    "Dominica Rooftop Classification data"
   ]
  },
  {
   "cell_type": "code",
   "execution_count": 2,
   "id": "1b501283",
   "metadata": {
    "slideshow": {
     "slide_type": "slide"
    }
   },
   "outputs": [
    {
     "ename": "ModuleNotFoundError",
     "evalue": "No module named 'fiona'",
     "output_type": "error",
     "traceback": [
      "\u001b[1;31m---------------------------------------------------------------------------\u001b[0m",
      "\u001b[1;31mModuleNotFoundError\u001b[0m                       Traceback (most recent call last)",
      "Cell \u001b[1;32mIn[2], line 1\u001b[0m\n\u001b[1;32m----> 1\u001b[0m \u001b[38;5;28;01mimport\u001b[39;00m \u001b[38;5;21;01mfiona\u001b[39;00m\n\u001b[0;32m      3\u001b[0m geopackage_path \u001b[38;5;241m=\u001b[39m \u001b[38;5;124m'\u001b[39m\u001b[38;5;124mbuilding_footprints.gpkg\u001b[39m\u001b[38;5;124m'\u001b[39m\n\u001b[0;32m      4\u001b[0m layers \u001b[38;5;241m=\u001b[39m fiona\u001b[38;5;241m.\u001b[39mlistlayers(geopackage_path)\n",
      "\u001b[1;31mModuleNotFoundError\u001b[0m: No module named 'fiona'"
     ]
    }
   ],
   "source": [
    "import fiona\n",
    "\n",
    "geopackage_path = 'building_footprints.gpkg'\n",
    "layers = fiona.listlayers(geopackage_path)\n",
    "print(layers)"
   ]
  },
  {
   "cell_type": "code",
   "execution_count": 113,
   "id": "5cf0a82b",
   "metadata": {},
   "outputs": [],
   "source": [
    "#Load Geopackage Footprints\n",
    "ml_gdf = gpd.read_file('building_footprints.gpkg', layer='output_edited')"
   ]
  },
  {
   "cell_type": "code",
   "execution_count": 114,
   "id": "94e250ce",
   "metadata": {},
   "outputs": [
    {
     "data": {
      "text/plain": [
       "<Geographic 2D CRS: EPSG:4326>\n",
       "Name: WGS 84\n",
       "Axis Info [ellipsoidal]:\n",
       "- Lat[north]: Geodetic latitude (degree)\n",
       "- Lon[east]: Geodetic longitude (degree)\n",
       "Area of Use:\n",
       "- name: World.\n",
       "- bounds: (-180.0, -90.0, 180.0, 90.0)\n",
       "Datum: World Geodetic System 1984 ensemble\n",
       "- Ellipsoid: WGS 84\n",
       "- Prime Meridian: Greenwich"
      ]
     },
     "execution_count": 114,
     "metadata": {},
     "output_type": "execute_result"
    }
   ],
   "source": [
    "# Look at the crs\n",
    "ml_gdf.crs"
   ]
  },
  {
   "cell_type": "code",
   "execution_count": 1,
   "id": "7e5ddbf7",
   "metadata": {},
   "outputs": [
    {
     "ename": "NameError",
     "evalue": "name 'leafmap' is not defined",
     "output_type": "error",
     "traceback": [
      "\u001b[1;31m---------------------------------------------------------------------------\u001b[0m",
      "\u001b[1;31mNameError\u001b[0m                                 Traceback (most recent call last)",
      "Cell \u001b[1;32mIn[1], line 1\u001b[0m\n\u001b[1;32m----> 1\u001b[0m m \u001b[38;5;241m=\u001b[39m leafmap\u001b[38;5;241m.\u001b[39mMap(center\u001b[38;5;241m=\u001b[39m[\u001b[38;5;241m15.45\u001b[39m, \u001b[38;5;241m-\u001b[39m\u001b[38;5;241m61.43\u001b[39m], zoom\u001b[38;5;241m=\u001b[39m\u001b[38;5;241m16\u001b[39m)\n\u001b[0;32m      3\u001b[0m \u001b[38;5;66;03m#m.add_gdf(stats_merge, layer_name=\"stats\")\u001b[39;00m\n\u001b[0;32m      4\u001b[0m m\u001b[38;5;241m.\u001b[39madd_gdf(ml_gdf, layer_name\u001b[38;5;241m=\u001b[39m\u001b[38;5;124m\"\u001b[39m\u001b[38;5;124mML\u001b[39m\u001b[38;5;124m\"\u001b[39m)\n",
      "\u001b[1;31mNameError\u001b[0m: name 'leafmap' is not defined"
     ]
    }
   ],
   "source": [
    "\n",
    "m = leafmap.Map(center=[15.45, -61.43], zoom=16)\n",
    "\n",
    "#m.add_gdf(stats_merge, layer_name=\"stats\")\n",
    "m.add_gdf(ml_gdf, layer_name=\"ML\")\n",
    "\n",
    "m"
   ]
  },
  {
   "cell_type": "code",
   "execution_count": null,
   "id": "2d80fdf4",
   "metadata": {},
   "outputs": [],
   "source": []
  }
 ],
 "metadata": {
  "celltoolbar": "Slideshow",
  "kernelspec": {
   "display_name": "Python 3 (ipykernel)",
   "language": "python",
   "name": "python3"
  },
  "language_info": {
   "codemirror_mode": {
    "name": "ipython",
    "version": 3
   },
   "file_extension": ".py",
   "mimetype": "text/x-python",
   "name": "python",
   "nbconvert_exporter": "python",
   "pygments_lexer": "ipython3",
   "version": "3.11.7"
  }
 },
 "nbformat": 4,
 "nbformat_minor": 5
}
