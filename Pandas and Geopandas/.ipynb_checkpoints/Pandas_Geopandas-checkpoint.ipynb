{
 "cells": [
  {
   "cell_type": "markdown",
   "id": "0020c6c0",
   "metadata": {},
   "source": [
    "# Pandas, Geopandas\n"
   ]
  },
  {
   "cell_type": "code",
   "execution_count": 1,
   "id": "280d6c83",
   "metadata": {},
   "outputs": [],
   "source": [
    "#import the pandas library and use pd as a alias to reference pandas and it's methods\n",
    "import pandas as pd "
   ]
  },
  {
   "cell_type": "code",
   "execution_count": null,
   "id": "433fc9e1",
   "metadata": {},
   "outputs": [],
   "source": []
  }
 ],
 "metadata": {
  "kernelspec": {
   "display_name": "Python 3 (ipykernel)",
   "language": "python",
   "name": "python3"
  },
  "language_info": {
   "codemirror_mode": {
    "name": "ipython",
    "version": 3
   },
   "file_extension": ".py",
   "mimetype": "text/x-python",
   "name": "python",
   "nbconvert_exporter": "python",
   "pygments_lexer": "ipython3",
   "version": "3.11.5"
  }
 },
 "nbformat": 4,
 "nbformat_minor": 5
}
