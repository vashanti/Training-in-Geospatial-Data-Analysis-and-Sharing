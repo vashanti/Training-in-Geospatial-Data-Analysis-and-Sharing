{
 "cells": [
  {
   "cell_type": "markdown",
   "id": "0020c6c0",
   "metadata": {
    "slideshow": {
     "slide_type": "slide"
    }
   },
   "source": [
    "# Pandas\n"
   ]
  },
  {
   "cell_type": "markdown",
   "id": "18921f68",
   "metadata": {
    "slideshow": {
     "slide_type": "slide"
    }
   },
   "source": [
    "* Pandas is a Python library used for working with data sets.\n",
    "* Contains methods for analyzing, cleaning, exploring, and manipulating data.\n"
   ]
  },
  {
   "cell_type": "markdown",
   "id": "ddcf1317",
   "metadata": {
    "slideshow": {
     "slide_type": "slide"
    }
   },
   "source": [
    "## Read csv\n",
    "\n",
    "A simple way to store big data sets is to use CSV files (comma separated files).\n",
    "\n",
    "CSV files contains plain text and is a well know format that can be read by everyone including Pandas.\n",
    "\n",
    "```python \n",
    "#syntax\n",
    "my_df = pd.read_csv('data.csv')\n",
    "```"
   ]
  },
  {
   "cell_type": "code",
   "execution_count": 15,
   "id": "95f547dd",
   "metadata": {
    "slideshow": {
     "slide_type": "slide"
    }
   },
   "outputs": [
    {
     "name": "stdout",
     "output_type": "stream",
     "text": [
      "                                               index  count\n",
      "0                                     CLIMATE CHANGE     54\n",
      "1                                        STORM SURGE     54\n",
      "2                                           DOMINODE     47\n",
      "3                                               CRIS     41\n",
      "4                                      DRONE IMAGERY     33\n",
      "5                            ASSET MANAGEMENT SYSTEM     28\n",
      "6                                           EXPOSURE     18\n",
      "7                                  BRIDGE RISK INDEX     17\n",
      "8                                HYDRAULIC CROSSINGS     17\n",
      "9                                     AERIAL IMAGERY     14\n",
      "10                                            HAZARD      9\n",
      "11                           DIGITAL ELEVATION MODEL      8\n",
      "12                                 SATELLITE IMAGERY      8\n",
      "13                                             WATER      5\n",
      "14                                             INDEX      4\n",
      "15                                              CORS      4\n",
      "16                                         HYDROLOGY      4\n",
      "17                                        ELECTRICAL      3\n",
      "18                                          RAINFALL      3\n",
      "19                                    TRANSPORTATION      3\n",
      "20                                            CHARIM      3\n",
      "21                                           BRIDGES      3\n",
      "22                                             ROADS      3\n",
      "23                                    SURVEY CONTROL      3\n",
      "24                                        WATERSHEDS      2\n",
      "25                                EMERGENCY RESPONSE      2\n",
      "26                                         BUILDINGS      2\n",
      "27                                             TILES      2\n",
      "28                             SETTLEMENT BOUNDARIES      2\n",
      "29                                        STATISTICS      1\n",
      "30                                             LIDAR      1\n",
      "31                                        LANDSLIDES      1\n",
      "32                                          WAVEFORM      1\n",
      "33                                               OSM      1\n",
      "34                                  LAND INFORMATION      1\n",
      "35                                              ULIS      1\n",
      "36                                          PLATFORM      1\n",
      "37                                        STREAMFLOW      1\n",
      "38                                  WEATHER STATIONS      1\n",
      "39                                       PLACE NAMES      1\n",
      "40                                          CONTOURS      1\n",
      "41                                        TOPOGRAPHY      1\n",
      "42                                       POINT CLOUD      1\n",
      "43                                        PEAK FLOWS      1\n",
      "44                                               DTM      1\n",
      "45                                              WIND      1\n",
      "46                                          PLEIADES      1\n",
      "47                                         SHORELINE      1\n",
      "48                                        BOUNDARIES      1\n",
      "49                                              GNSS      1\n",
      "50                                         SURVEYING      1\n",
      "51                                            POLICE      1\n",
      "52                                           SCHOOLS      1\n",
      "53                                               APP      1\n",
      "54                                          SHELTERS      1\n",
      "55                                           PARCELS      1\n",
      "56                                            RIVERS      1\n",
      "57                                               NIR      1\n",
      "58                                TELECOMMUNICATIONS      1\n",
      "59                                             LAKES      1\n",
      "60                                        BREAKLINES      1\n",
      "61                                 DAMAGE ASSESSMENT      1\n",
      "62                          GEOSCIENTIFICINFORMATION     90\n",
      "63                         IMAGERYBASEMAPSEARTHCOVER     74\n",
      "64                                         STRUCTURE     24\n",
      "65                                           SOCIETY     18\n",
      "66                                         ELEVATION     16\n",
      "67                                          LOCATION     12\n",
      "68                                      INLANDWATERS      7\n",
      "69                                            OCEANS      4\n",
      "70                  CLIMATOLOGYMETEOROLOGYATMOSPHERE      4\n",
      "71                                       ENVIRONMENT      3\n",
      "72                                            HEALTH      1\n",
      "73                                           ECONOMY      1\n",
      "74                                             BIOTA      1\n",
      "75                                  PLANNINGCADASTRE      1\n",
      "76                                         BASE DATA    114\n",
      "77                                 FLOOD HAZARD MAPS     59\n",
      "78                           CRITICAL INFRASTRUCTURE     39\n",
      "79  VULNERABILITY CURVES FOR CRITICAL INFRASTRUCTURE     27\n",
      "80               HISTORICAL RECORDS OF HAZARD EVENTS     20\n",
      "81                         ADMINISTRATIVE BOUNDARIES      8\n",
      "82                                      WATER BODIES      5\n",
      "83                                              RISK      4\n",
      "84                                           UNKNOWN      4\n",
      "85                                   TOPOGRAPHIC MAP      4\n",
      "86                                        LAND COVER      2\n",
      "87                                        BATHYMETRY      2\n",
      "88                              WATERSHED BOUNDARIES      2\n",
      "89                               ECONOMIC ACTIVITIES      2\n",
      "90                           HYDROLOGICAL GAUGE DATA      1\n",
      "91                         METEOROLOGICAL GAUGE DATA      1\n",
      "92                                         VOLCANOES      1\n",
      "93                              SEISMIC HAZARD MODEL      1\n",
      "94                                         SOIL TYPE      1\n",
      "95                                        POPULATION      1\n",
      "96                           AGRICULTURAL PRODUCTION      1\n"
     ]
    }
   ],
   "source": [
    "import pandas as pd\n",
    "\n",
    "my_pdf = pd.read_csv('unique_keywords.csv')\n",
    "\n",
    "print(my_pdf.to_string()) "
   ]
  },
  {
   "cell_type": "markdown",
   "id": "a6154de9",
   "metadata": {
    "slideshow": {
     "slide_type": "slide"
    }
   },
   "source": [
    "## Dataframe\n",
    "\n",
    "A 2 dimensional data structure like a table with rows and columns.\n",
    "```python\n",
    "#syntax\n",
    "my_df = pandas.DataFrame(data=None, index=None, columns=None, dtype=None, copy=None)\n",
    "```"
   ]
  },
  {
   "cell_type": "code",
   "execution_count": 8,
   "id": "280d6c83",
   "metadata": {
    "slideshow": {
     "slide_type": "slide"
    }
   },
   "outputs": [
    {
     "name": "stdout",
     "output_type": "stream",
     "text": [
      "    cars  passings\n",
      "0    BMW         3\n",
      "1  Volvo         7\n",
      "2   Ford         2\n",
      "   calories  duration\n",
      "0       420        50\n",
      "1       380        40\n",
      "2       390        45\n",
      "    X   Y   Z\n",
      "0  78  84  86\n",
      "1  85  94  97\n",
      "2  96  89  96\n",
      "3  80  83  72\n",
      "4  86  86  83\n"
     ]
    }
   ],
   "source": [
    "#import the pandas library and use pd as a alias to reference pandas and it's methods\n",
    "import pandas as pd \n",
    "\n",
    "#dataset with mixed types\n",
    "dataset1 = {\n",
    "  'cars': [\"BMW\", \"Volvo\", \"Ford\"],\n",
    "  'passings': [3, 7, 2]\n",
    "}\n",
    "#dataset with similar type\n",
    "dataset2 = {\n",
    "  \"calories\": [420, 380, 390],\n",
    "  \"duration\": [50, 40, 45]\n",
    "}\n",
    "#3 column dataset\n",
    "dataset3 = {\n",
    "    'X':[78,85,96,80,86], \n",
    "    'Y':[84,94,89,83,86],\n",
    "    'Z':[86,97,96,72,83]\n",
    "}\n",
    "\n",
    "#create a dataframe for each dataset\n",
    "df1 = pd.DataFrame(dataset1)\n",
    "df2 = pd.DataFrame(dataset2)\n",
    "df3 = pd.DataFrame(dataset3)\n",
    "\n",
    "print(df1)\n",
    "print(df2)\n",
    "print(df3)"
   ]
  },
  {
   "cell_type": "markdown",
   "id": "514e16f1",
   "metadata": {
    "slideshow": {
     "slide_type": "slide"
    }
   },
   "source": [
    "## DataSeries\n",
    "\n",
    "A Pandas Series is like a column in a table. It is a one-dimensional array holding data of any type.\n",
    "\n",
    "```python\n",
    "#syntax\n",
    "my_df = pandas.Series()\n",
    "```\n"
   ]
  },
  {
   "cell_type": "code",
   "execution_count": 12,
   "id": "961ef84b",
   "metadata": {
    "slideshow": {
     "slide_type": "slide"
    }
   },
   "outputs": [
    {
     "name": "stdout",
     "output_type": "stream",
     "text": [
      "0     2\n",
      "1     4\n",
      "2     6\n",
      "3     8\n",
      "4    10\n",
      "dtype: int64\n",
      "day 1    420\n",
      "day 2    380\n",
      "day 3    390\n",
      "dtype: int64\n"
     ]
    }
   ],
   "source": [
    "import pandas as pd\n",
    "\n",
    "dataset1 = [2, 4, 6, 8, 10]\n",
    "dataset2 = {\"day 1\": 420, \"day 2\": 380, \"day 3\": 390}\n",
    "            \n",
    "s1 = pd.Series(dataset1)\n",
    "s2 = pd.Series(dataset2)\n",
    "\n",
    "print(s1)\n",
    "print(s2)"
   ]
  },
  {
   "cell_type": "markdown",
   "id": "2afc34bf",
   "metadata": {
    "slideshow": {
     "slide_type": "slide"
    }
   },
   "source": [
    "## Activity 8\n",
    "\n",
    "Write a pandas program to create a dataframe from the following dictionary and display it.\n",
    "```python \n",
    "chipotle = {\n",
    "\"order_id\":[1,1,2,3],\n",
    "\"quantity\":[1,1,2,1],\n",
    "\"item_name\":[\"Chips and Fresh Tomato Salsa\",\"Nantucket Nectar\",\"Chicken Bowl\",\"Chicken Bowl\"],\n",
    "\"choice_description\":[\"\", \"Apple\",\"Tomatillo-Red Chili Salsa (Hot)\",\"Fresh Tomato Salsa (Mild)\"],\n",
    "\"item_price\":[\"$2.39\",\"$3.39\",\"$16.98\",\"$10.98\"]\n",
    "}\n",
    "```\n"
   ]
  },
  {
   "cell_type": "markdown",
   "id": "2561c9d6",
   "metadata": {
    "slideshow": {
     "slide_type": "slide"
    }
   },
   "source": [
    "## Activity 9\n",
    "\n",
    "\n",
    "DataFrame.head(n) : returns the first n rows for the object based on position\n",
    "DataFrame.info() : prints a concise summary of a DataFrame\n",
    "\n",
    "Write a Pandas program to \n",
    "* create a DataFrame from the following dictionary, using the specified labels list.\n",
    "* display a summary of the basic information about the created DataFrame and its data.\n",
    "* display the first 6 rows of the DataFrame\n",
    "\n",
    "```python\n",
    "exam_data  = {\n",
    "    'name': ['Anastasia', 'Dima', 'Katherine', 'James', 'Emily', 'Michael', 'Matthew', 'Laura', 'Kevin', 'Jonas'],\n",
    "    'score': [12.5, 9, 16.5, 0, 9, 20, 14.5, 0, 8, 19],\n",
    "    'attempts': [1, 3, 2, 3, 2, 3, 1, 1, 2, 1],\n",
    "    'qualify': ['yes', 'no', 'yes', 'no', 'no', 'yes', 'yes', 'no', 'no', 'yes']\n",
    "}\n",
    "labels = ['a', 'b', 'c', 'd', 'e', 'f', 'g', 'h', 'i', 'j']\n",
    "```"
   ]
  },
  {
   "cell_type": "markdown",
   "id": "9718e810",
   "metadata": {},
   "source": [
    "## Activity 10\n",
    "\n",
    "DataFrame.agg(func=None, axis=0, *args, **kwargs)\n",
    "* Aggregate using one or more operations over the specified axis    \n",
    "* fun : list of functions and/or function names, e.g. [np.sum, 'mean']\n",
    "* example\n",
    "```python\n",
    "data = {\r\n",
    "  \"x\": [50, 40, 30],\r\n",
    "  \"y\": [300, 1112, 42]\r\n",
    "}\r\n",
    "\r\n",
    "df = pd.DataFrame(data)\r\n",
    "\r\n",
    "x = df.agg([\n",
    "\n",
    "\"sum\"])\n",
    "#OUTPUT\n",
    "#      x      y\n",
    "#sum   120 \n",
    "   14`\n",
    "    \n",
    "    \n",
    "\n",
    "Write a Pandas program to split the following dataframe by school code and get mean, min, and max value of weight for each school.\n",
    "\n",
    "```python\n",
    "school_data = {\n",
    "    'school_code': ['s001','s002','s003','s001','s002','s004'],\n",
    "    'class': ['V', 'V', 'VI', 'VI', 'V', 'VI'],\n",
    "    'name': ['Alberto Franco','Gino Mcneill','Ryan Parkes', 'Eesha Hinton', 'Gino Mcneill', 'David Parkes'],\n",
    "    'date_Of_Birth ': ['15/05/2002','17/05/2002','16/02/1999','25/09/1998','11/05/2002','15/09/1997'],\n",
    "    'age': [12, 12, 13, 13, 14, 12],\n",
    "    'height': [173, 192, 186, 167, 151, 159],\n",
    "    'weight': [35, 32, 33, 30, 31, 32],\n",
    "    'address': ['street1', 'street2', 'street3', 'street1', 'street2', 'street4']\n",
    "}\n",
    "labels = ['S1', 'S2', 'S3', 'S4', 'S5', 'S6']\n",
    "```"
   ]
  }
 ],
 "metadata": {
  "celltoolbar": "Slideshow",
  "kernelspec": {
   "display_name": "Python 3 (ipykernel)",
   "language": "python",
   "name": "python3"
  },
  "language_info": {
   "codemirror_mode": {
    "name": "ipython",
    "version": 3
   },
   "file_extension": ".py",
   "mimetype": "text/x-python",
   "name": "python",
   "nbconvert_exporter": "python",
   "pygments_lexer": "ipython3",
   "version": "3.11.7"
  }
 },
 "nbformat": 4,
 "nbformat_minor": 5
}
