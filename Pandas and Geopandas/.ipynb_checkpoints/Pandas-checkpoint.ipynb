{
 "cells": [
  {
   "cell_type": "markdown",
   "id": "0020c6c0",
   "metadata": {
    "slideshow": {
     "slide_type": "slide"
    }
   },
   "source": [
    "# Pandas\n"
   ]
  },
  {
   "cell_type": "markdown",
   "id": "18921f68",
   "metadata": {
    "slideshow": {
     "slide_type": "slide"
    }
   },
   "source": [
    "* Pandas is a Python library used for working with data sets.\n",
    "* Contains methods for analyzing, cleaning, exploring, and manipulating data.\n"
   ]
  },
  {
   "cell_type": "markdown",
   "id": "a6154de9",
   "metadata": {
    "slideshow": {
     "slide_type": "slide"
    }
   },
   "source": [
    "## Dataframe\n",
    "\n",
    "A 2 dimensional data structure like a table with rows and columns.\n",
    "```python\n",
    "#syntax\n",
    "my_df = pandas.DataFrame(data=None, index=None, columns=None, dtype=None, copy=None)\n",
    "```"
   ]
  },
  {
   "cell_type": "code",
   "execution_count": 8,
   "id": "280d6c83",
   "metadata": {
    "slideshow": {
     "slide_type": "slide"
    }
   },
   "outputs": [
    {
     "name": "stdout",
     "output_type": "stream",
     "text": [
      "    cars  passings\n",
      "0    BMW         3\n",
      "1  Volvo         7\n",
      "2   Ford         2\n",
      "   calories  duration\n",
      "0       420        50\n",
      "1       380        40\n",
      "2       390        45\n",
      "    X   Y   Z\n",
      "0  78  84  86\n",
      "1  85  94  97\n",
      "2  96  89  96\n",
      "3  80  83  72\n",
      "4  86  86  83\n"
     ]
    }
   ],
   "source": [
    "#import the pandas library and use pd as a alias to reference pandas and it's methods\n",
    "import pandas as pd \n",
    "\n",
    "#dataset with mixed types\n",
    "dataset1 = {\n",
    "  'cars': [\"BMW\", \"Volvo\", \"Ford\"],\n",
    "  'passings': [3, 7, 2]\n",
    "}\n",
    "#dataset with similar type\n",
    "dataset2 = {\n",
    "  \"calories\": [420, 380, 390],\n",
    "  \"duration\": [50, 40, 45]\n",
    "}\n",
    "#3 column dataset\n",
    "dataset3 = {\n",
    "    'X':[78,85,96,80,86], \n",
    "    'Y':[84,94,89,83,86],\n",
    "    'Z':[86,97,96,72,83]\n",
    "}\n",
    "\n",
    "#create a dataframe for each dataset\n",
    "df1 = pd.DataFrame(dataset1)\n",
    "df2 = pd.DataFrame(dataset2)\n",
    "df3 = pd.DataFrame(dataset3)\n",
    "\n",
    "print(df1)\n",
    "print(df2)\n",
    "print(df3)"
   ]
  },
  {
   "cell_type": "markdown",
   "id": "ddcf1317",
   "metadata": {
    "slideshow": {
     "slide_type": "slide"
    }
   },
   "source": [
    "## read_csv()\n",
    "\n",
    "A simple way to store big data sets is to use CSV files (comma separated files). CSV files contain plain text and is a well known format that can be read by everyone including Pandas.\n",
    "\n",
    "**read_csv() method allows for the reading of a comma-separated values (csv) file into DataFrame.**\n",
    "\n",
    "```python \n",
    "#syntax\n",
    "my_df = pd.read_csv('data.csv')\n",
    "```"
   ]
  },
  {
   "cell_type": "code",
   "execution_count": 47,
   "id": "95f547dd",
   "metadata": {
    "slideshow": {
     "slide_type": "slide"
    }
   },
   "outputs": [
    {
     "data": {
      "text/plain": [
       "'                                               index  count\\n0                                     CLIMATE CHANGE     54\\n1                                        STORM SURGE     54\\n2                                           DOMINODE     47\\n3                                               CRIS     41\\n4                                      DRONE IMAGERY     33\\n5                            ASSET MANAGEMENT SYSTEM     28\\n6                                           EXPOSURE     18\\n7                                  BRIDGE RISK INDEX     17\\n8                                HYDRAULIC CROSSINGS     17\\n9                                     AERIAL IMAGERY     14\\n10                                            HAZARD      9\\n11                           DIGITAL ELEVATION MODEL      8\\n12                                 SATELLITE IMAGERY      8\\n13                                             WATER      5\\n14                                             INDEX      4\\n15                                              CORS      4\\n16                                         HYDROLOGY      4\\n17                                        ELECTRICAL      3\\n18                                          RAINFALL      3\\n19                                    TRANSPORTATION      3\\n20                                            CHARIM      3\\n21                                           BRIDGES      3\\n22                                             ROADS      3\\n23                                    SURVEY CONTROL      3\\n24                                        WATERSHEDS      2\\n25                                EMERGENCY RESPONSE      2\\n26                                         BUILDINGS      2\\n27                                             TILES      2\\n28                             SETTLEMENT BOUNDARIES      2\\n29                                        STATISTICS      1\\n30                                             LIDAR      1\\n31                                        LANDSLIDES      1\\n32                                          WAVEFORM      1\\n33                                               OSM      1\\n34                                  LAND INFORMATION      1\\n35                                              ULIS      1\\n36                                          PLATFORM      1\\n37                                        STREAMFLOW      1\\n38                                  WEATHER STATIONS      1\\n39                                       PLACE NAMES      1\\n40                                          CONTOURS      1\\n41                                        TOPOGRAPHY      1\\n42                                       POINT CLOUD      1\\n43                                        PEAK FLOWS      1\\n44                                               DTM      1\\n45                                              WIND      1\\n46                                          PLEIADES      1\\n47                                         SHORELINE      1\\n48                                        BOUNDARIES      1\\n49                                              GNSS      1\\n50                                         SURVEYING      1\\n51                                            POLICE      1\\n52                                           SCHOOLS      1\\n53                                               APP      1\\n54                                          SHELTERS      1\\n55                                           PARCELS      1\\n56                                            RIVERS      1\\n57                                               NIR      1\\n58                                TELECOMMUNICATIONS      1\\n59                                             LAKES      1\\n60                                        BREAKLINES      1\\n61                                 DAMAGE ASSESSMENT      1\\n62                          GEOSCIENTIFICINFORMATION     90\\n63                         IMAGERYBASEMAPSEARTHCOVER     74\\n64                                         STRUCTURE     24\\n65                                           SOCIETY     18\\n66                                         ELEVATION     16\\n67                                          LOCATION     12\\n68                                      INLANDWATERS      7\\n69                                            OCEANS      4\\n70                  CLIMATOLOGYMETEOROLOGYATMOSPHERE      4\\n71                                       ENVIRONMENT      3\\n72                                            HEALTH      1\\n73                                           ECONOMY      1\\n74                                             BIOTA      1\\n75                                  PLANNINGCADASTRE      1\\n76                                         BASE DATA    114\\n77                                 FLOOD HAZARD MAPS     59\\n78                           CRITICAL INFRASTRUCTURE     39\\n79  VULNERABILITY CURVES FOR CRITICAL INFRASTRUCTURE     27\\n80               HISTORICAL RECORDS OF HAZARD EVENTS     20\\n81                         ADMINISTRATIVE BOUNDARIES      8\\n82                                      WATER BODIES      5\\n83                                              RISK      4\\n84                                           UNKNOWN      4\\n85                                   TOPOGRAPHIC MAP      4\\n86                                        LAND COVER      2\\n87                                        BATHYMETRY      2\\n88                              WATERSHED BOUNDARIES      2\\n89                               ECONOMIC ACTIVITIES      2\\n90                           HYDROLOGICAL GAUGE DATA      1\\n91                         METEOROLOGICAL GAUGE DATA      1\\n92                                         VOLCANOES      1\\n93                              SEISMIC HAZARD MODEL      1\\n94                                         SOIL TYPE      1\\n95                                        POPULATION      1\\n96                           AGRICULTURAL PRODUCTION      1'"
      ]
     },
     "execution_count": 47,
     "metadata": {},
     "output_type": "execute_result"
    }
   ],
   "source": [
    "import pandas as pd\n",
    "\n",
    "#read the unique_keywords.csv file into a dataframe called my_pdf\n",
    "my_pdf = pd.read_csv('unique_keywords.csv')\n",
    "#my_pdf = pd.read_csv('student.csv')\n",
    "\n",
    "#prints/displays a string representation of the my_pdf dataframe\n",
    "my_pdf.to_string()"
   ]
  },
  {
   "cell_type": "code",
   "execution_count": 48,
   "id": "7f952735-0607-4cc1-9b21-d45c620b7e60",
   "metadata": {},
   "outputs": [
    {
     "data": {
      "text/html": [
       "<div>\n",
       "<style scoped>\n",
       "    .dataframe tbody tr th:only-of-type {\n",
       "        vertical-align: middle;\n",
       "    }\n",
       "\n",
       "    .dataframe tbody tr th {\n",
       "        vertical-align: top;\n",
       "    }\n",
       "\n",
       "    .dataframe thead th {\n",
       "        text-align: right;\n",
       "    }\n",
       "</style>\n",
       "<table border=\"1\" class=\"dataframe\">\n",
       "  <thead>\n",
       "    <tr style=\"text-align: right;\">\n",
       "      <th></th>\n",
       "      <th>index</th>\n",
       "      <th>count</th>\n",
       "    </tr>\n",
       "  </thead>\n",
       "  <tbody>\n",
       "    <tr>\n",
       "      <th>0</th>\n",
       "      <td>CLIMATE CHANGE</td>\n",
       "      <td>54</td>\n",
       "    </tr>\n",
       "    <tr>\n",
       "      <th>1</th>\n",
       "      <td>STORM SURGE</td>\n",
       "      <td>54</td>\n",
       "    </tr>\n",
       "    <tr>\n",
       "      <th>2</th>\n",
       "      <td>DOMINODE</td>\n",
       "      <td>47</td>\n",
       "    </tr>\n",
       "    <tr>\n",
       "      <th>3</th>\n",
       "      <td>CRIS</td>\n",
       "      <td>41</td>\n",
       "    </tr>\n",
       "    <tr>\n",
       "      <th>4</th>\n",
       "      <td>DRONE IMAGERY</td>\n",
       "      <td>33</td>\n",
       "    </tr>\n",
       "  </tbody>\n",
       "</table>\n",
       "</div>"
      ],
      "text/plain": [
       "            index  count\n",
       "0  CLIMATE CHANGE     54\n",
       "1     STORM SURGE     54\n",
       "2        DOMINODE     47\n",
       "3            CRIS     41\n",
       "4   DRONE IMAGERY     33"
      ]
     },
     "execution_count": 48,
     "metadata": {},
     "output_type": "execute_result"
    }
   ],
   "source": [
    "#display dataframe\n",
    "#shows, column titles, data, no. rows, no. cols\n",
    "#my_pdf\n",
    "\n",
    "#display first 5 rows and column titles of dataframe\n",
    "#enter a number within () to display a particular number of rows\n",
    "my_pdf.head()"
   ]
  },
  {
   "cell_type": "code",
   "execution_count": 49,
   "id": "0cca4888-f324-4497-a5b1-ecba3db0985a",
   "metadata": {},
   "outputs": [
    {
     "name": "stdout",
     "output_type": "stream",
     "text": [
      "(97, 2)\n",
      "194\n",
      "index    object\n",
      "count     int64\n",
      "dtype: object\n"
     ]
    }
   ],
   "source": [
    "#outputs total cols and rows\n",
    "#note there are no brackets after shape\n",
    "print(my_pdf.shape)\n",
    "\n",
    "#outputs the total no. of cells (rows x cols)\n",
    "print(my_pdf.size)\n",
    "\n",
    "#outputs the datatypes of each column in dataframe\n",
    "print(my_pdf.dtypes)\n",
    "\n",
    "#print(type(my_pdf))"
   ]
  },
  {
   "cell_type": "code",
   "execution_count": 72,
   "id": "4acc8c88-1bd4-4504-a049-abd4d2b47dd1",
   "metadata": {},
   "outputs": [
    {
     "data": {
      "text/plain": [
       "array([ 54,  54,  47,  41,  33,  28,  18,  17,  17,  14,   9,   8,   8,\n",
       "         5,   4,   4,   4,   3,   3,   3,   3,   3,   3,   3,   2,   2,\n",
       "         2,   2,   2,   1,   1,   1,   1,   1,   1,   1,   1,   1,   1,\n",
       "         1,   1,   1,   1,   1,   1,   1,   1,   1,   1,   1,   1,   1,\n",
       "         1,   1,   1,   1,   1,   1,   1,   1,   1,   1,  90,  74,  24,\n",
       "        18,  16,  12,   7,   4,   4,   3,   1,   1,   1,   1, 114,  59,\n",
       "        39,  27,  20,   8,   5,   4,   4,   4,   2,   2,   2,   2,   1,\n",
       "         1,   1,   1,   1,   1,   1], dtype=int64)"
      ]
     },
     "execution_count": 72,
     "metadata": {},
     "output_type": "execute_result"
    }
   ],
   "source": [
    "index = my_pdf['count'].values \n",
    "# and \n",
    "#index = my_pdf.count.values\n",
    "# results are the same, however if a column name has spaces, the latter won't work\n",
    "#index and count are reserved words so the latter also won't work in this example\n",
    "\n",
    "#display unique values in a particular column\n",
    "u_index = my_pdf['count'].unique()\n",
    "\n",
    "#u_index\n",
    "index"
   ]
  },
  {
   "cell_type": "markdown",
   "id": "514e16f1",
   "metadata": {
    "slideshow": {
     "slide_type": "slide"
    }
   },
   "source": [
    "## DataSeries\n",
    "\n",
    "A Pandas Series is like a column in a table. It is a one-dimensional array holding data of any type.\n",
    "\n",
    "```python\n",
    "#syntax\n",
    "my_df = pandas.Series()\n",
    "```\n"
   ]
  },
  {
   "cell_type": "code",
   "execution_count": 73,
   "id": "961ef84b",
   "metadata": {
    "slideshow": {
     "slide_type": "slide"
    }
   },
   "outputs": [
    {
     "name": "stdout",
     "output_type": "stream",
     "text": [
      "0     2\n",
      "1     4\n",
      "2     6\n",
      "3     8\n",
      "4    10\n",
      "dtype: int64\n",
      "day 1    420\n",
      "day 2    380\n",
      "day 3    390\n",
      "dtype: int64\n"
     ]
    }
   ],
   "source": [
    "import pandas as pd\n",
    "\n",
    "dataset1 = [2, 4, 6, 8, 10]\n",
    "dataset2 = {\"day 1\": 420, \"day 2\": 380, \"day 3\": 390}\n",
    "            \n",
    "s1 = pd.Series(dataset1)\n",
    "s2 = pd.Series(dataset2)\n",
    "\n",
    "print(s1)\n",
    "print(s2)"
   ]
  },
  {
   "cell_type": "markdown",
   "id": "4232d617-7fdd-4722-864b-91573f46eada",
   "metadata": {},
   "source": [
    "## Visualizing Data"
   ]
  },
  {
   "cell_type": "code",
   "execution_count": 75,
   "id": "455f7c96-56a6-4ef1-a4a9-2c9e04e8baf1",
   "metadata": {},
   "outputs": [
    {
     "data": {
      "text/html": [
       "<div>\n",
       "<style scoped>\n",
       "    .dataframe tbody tr th:only-of-type {\n",
       "        vertical-align: middle;\n",
       "    }\n",
       "\n",
       "    .dataframe tbody tr th {\n",
       "        vertical-align: top;\n",
       "    }\n",
       "\n",
       "    .dataframe thead th {\n",
       "        text-align: right;\n",
       "    }\n",
       "</style>\n",
       "<table border=\"1\" class=\"dataframe\">\n",
       "  <thead>\n",
       "    <tr style=\"text-align: right;\">\n",
       "      <th></th>\n",
       "      <th>id</th>\n",
       "      <th>name</th>\n",
       "      <th>class</th>\n",
       "      <th>mark</th>\n",
       "      <th>gender</th>\n",
       "    </tr>\n",
       "  </thead>\n",
       "  <tbody>\n",
       "    <tr>\n",
       "      <th>0</th>\n",
       "      <td>1</td>\n",
       "      <td>John Deo</td>\n",
       "      <td>Four</td>\n",
       "      <td>75</td>\n",
       "      <td>female</td>\n",
       "    </tr>\n",
       "    <tr>\n",
       "      <th>1</th>\n",
       "      <td>2</td>\n",
       "      <td>Max Ruin</td>\n",
       "      <td>Three</td>\n",
       "      <td>85</td>\n",
       "      <td>male</td>\n",
       "    </tr>\n",
       "    <tr>\n",
       "      <th>2</th>\n",
       "      <td>3</td>\n",
       "      <td>Arnold</td>\n",
       "      <td>Three</td>\n",
       "      <td>55</td>\n",
       "      <td>male</td>\n",
       "    </tr>\n",
       "    <tr>\n",
       "      <th>3</th>\n",
       "      <td>4</td>\n",
       "      <td>Krish Star</td>\n",
       "      <td>Four</td>\n",
       "      <td>60</td>\n",
       "      <td>female</td>\n",
       "    </tr>\n",
       "    <tr>\n",
       "      <th>4</th>\n",
       "      <td>5</td>\n",
       "      <td>John Mike</td>\n",
       "      <td>Four</td>\n",
       "      <td>60</td>\n",
       "      <td>female</td>\n",
       "    </tr>\n",
       "  </tbody>\n",
       "</table>\n",
       "</div>"
      ],
      "text/plain": [
       "   id        name  class  mark  gender\n",
       "0   1    John Deo   Four    75  female\n",
       "1   2    Max Ruin  Three    85    male\n",
       "2   3      Arnold  Three    55    male\n",
       "3   4  Krish Star   Four    60  female\n",
       "4   5   John Mike   Four    60  female"
      ]
     },
     "execution_count": 75,
     "metadata": {},
     "output_type": "execute_result"
    }
   ],
   "source": [
    "#import matplotlib library\n",
    "import matplotlib.pyplot as plt\n",
    "\n",
    "#read in new csv to dataframe\n",
    "my_students = pd.read_csv('student.csv')\n",
    "\n",
    "#marks = my_pdf['mark'].values \n",
    "# and \n",
    "#marks = my_pdf.mark.values\n",
    "# results are the same, however if a column name has spaces, the latter won't work\n",
    "\n",
    "#display unique values in a particular column\n",
    "#gender = my_pdf['gender'].unique()\n",
    "\n",
    "#marks\n",
    "#gender\n",
    "\n",
    "#get the titles\n",
    "my_students.head()\n"
   ]
  },
  {
   "cell_type": "code",
   "execution_count": 80,
   "id": "10349c65-6ed4-485e-adf5-6495cc04d97a",
   "metadata": {},
   "outputs": [],
   "source": [
    "#create lists for needed rows in order to create plot\n",
    "y = my_students.name.values\n",
    "x = my_students.mark.values"
   ]
  },
  {
   "cell_type": "code",
   "execution_count": 88,
   "id": "569c0c12-419d-45c5-b04f-a323de52ad50",
   "metadata": {},
   "outputs": [
    {
     "data": {
      "text/plain": [
       "Text(0.5, 1.0, 'student marks')"
      ]
     },
     "execution_count": 88,
     "metadata": {},
     "output_type": "execute_result"
    },
    {
     "data": {
      "image/png": "[encoded data removed]",
      "text/plain": [
       "<Figure size 640x480 with 1 Axes>"
      ]
     },
     "metadata": {},
     "output_type": "display_data"
    }
   ],
   "source": [
    "#plot the line graph\n",
    "#plt.plot(x,y)\n",
    "\n",
    "#plot a bargraph\n",
    "plt.bar(x, y)\n",
    "\n",
    "plt.xlabel(\"marks\")\n",
    "plt.ylabel(\"names\")\n",
    "plt.title(\"student marks\")"
   ]
  },
  {
   "cell_type": "markdown",
   "id": "2afc34bf",
   "metadata": {
    "slideshow": {
     "slide_type": "slide"
    }
   },
   "source": [
    "## Activity 8\n",
    "\n",
    "Write a pandas program to create a dataframe from the following dictionary and display it.\n",
    "```python \n",
    "chipotle = {\n",
    "\"order_id\":[1,1,2,3],\n",
    "\"quantity\":[1,1,2,1],\n",
    "\"item_name\":[\"Chips and Fresh Tomato Salsa\",\"Nantucket Nectar\",\"Chicken Bowl\",\"Chicken Bowl\"],\n",
    "\"choice_description\":[\"\", \"Apple\",\"Tomatillo-Red Chili Salsa (Hot)\",\"Fresh Tomato Salsa (Mild)\"],\n",
    "\"item_price\":[\"$2.39\",\"$3.39\",\"$16.98\",\"$10.98\"]\n",
    "}\n",
    "```\n"
   ]
  },
  {
   "cell_type": "markdown",
   "id": "2561c9d6",
   "metadata": {
    "slideshow": {
     "slide_type": "slide"
    }
   },
   "source": [
    "## Activity 9\n",
    "\n",
    "\n",
    "DataFrame.head(n) : returns the first n rows for the object based on position\n",
    "DataFrame.info() : prints a concise summary of a DataFrame\n",
    "\n",
    "Write a Pandas program to \n",
    "* create a DataFrame from the following dictionary, using the specified labels list.\n",
    "* display a summary of the basic information about the created DataFrame and its data.\n",
    "* display the first 6 rows of the DataFrame\n",
    "\n",
    "```python\n",
    "exam_data  = {\n",
    "    'name': ['Anastasia', 'Dima', 'Katherine', 'James', 'Emily', 'Michael', 'Matthew', 'Laura', 'Kevin', 'Jonas'],\n",
    "    'score': [12.5, 9, 16.5, 0, 9, 20, 14.5, 0, 8, 19],\n",
    "    'attempts': [1, 3, 2, 3, 2, 3, 1, 1, 2, 1],\n",
    "    'qualify': ['yes', 'no', 'yes', 'no', 'no', 'yes', 'yes', 'no', 'no', 'yes']\n",
    "}\n",
    "labels = ['a', 'b', 'c', 'd', 'e', 'f', 'g', 'h', 'i', 'j']\n",
    "```"
   ]
  },
  {
   "cell_type": "markdown",
   "id": "9718e810",
   "metadata": {},
   "source": [
    "## Activity 10\n",
    "\n",
    "DataFrame.agg(func=None, axis=0, *args, **kwargs)\n",
    "* Aggregate using one or more operations over the specified axis    \n",
    "* fun : list of functions and/or function names, e.g. [np.sum, 'mean']\n",
    "* example\n",
    "```python\n",
    "data = {\r\n",
    "  \"x\": [50, 40, 30],\r\n",
    "  \"y\": [300, 1112, 42]\r\n",
    "}\r\n",
    "\r\n",
    "df = pd.DataFrame(data)\r\n",
    "\r\n",
    "x = df.agg([\n",
    "\n",
    "\"sum\"])\n",
    "#OUTPUT\n",
    "#      x      y\n",
    "#sum   120 \n",
    "   14`\n",
    "    \n",
    "    \n",
    "\n",
    "Write a Pandas program to split the following dataframe by school code and get mean, min, and max value of weight for each school.\n",
    "\n",
    "```python\n",
    "school_data = {\n",
    "    'school_code': ['s001','s002','s003','s001','s002','s004'],\n",
    "    'class': ['V', 'V', 'VI', 'VI', 'V', 'VI'],\n",
    "    'name': ['Alberto Franco','Gino Mcneill','Ryan Parkes', 'Eesha Hinton', 'Gino Mcneill', 'David Parkes'],\n",
    "    'date_Of_Birth ': ['15/05/2002','17/05/2002','16/02/1999','25/09/1998','11/05/2002','15/09/1997'],\n",
    "    'age': [12, 12, 13, 13, 14, 12],\n",
    "    'height': [173, 192, 186, 167, 151, 159],\n",
    "    'weight': [35, 32, 33, 30, 31, 32],\n",
    "    'address': ['street1', 'street2', 'street3', 'street1', 'street2', 'street4']\n",
    "}\n",
    "labels = ['S1', 'S2', 'S3', 'S4', 'S5', 'S6']\n",
    "```"
   ]
  }
 ],
 "metadata": {
  "celltoolbar": "Slideshow",
  "kernelspec": {
   "display_name": "Python 3 (ipykernel)",
   "language": "python",
   "name": "python3"
  },
  "language_info": {
   "codemirror_mode": {
    "name": "ipython",
    "version": 3
   },
   "file_extension": ".py",
   "mimetype": "text/x-python",
   "name": "python",
   "nbconvert_exporter": "python",
   "pygments_lexer": "ipython3",
   "version": "3.11.7"
  }
 },
 "nbformat": 4,
 "nbformat_minor": 5
}
